{
 "cells": [
  {
   "cell_type": "code",
   "execution_count": 1,
   "metadata": {},
   "outputs": [],
   "source": [
    "import pandas as pd \n",
    "import numpy as np\n"
   ]
  },
  {
   "cell_type": "markdown",
   "metadata": {},
   "source": [
    "Question 1 anser is "
   ]
  },
  {
   "cell_type": "code",
   "execution_count": 2,
   "metadata": {},
   "outputs": [],
   "source": [
    "dataset = pd.read_csv(\"data.csv\")"
   ]
  },
  {
   "cell_type": "markdown",
   "metadata": {},
   "source": [
    "Question 2  answer "
   ]
  },
  {
   "cell_type": "code",
   "execution_count": 3,
   "metadata": {},
   "outputs": [
    {
     "data": {
      "text/plain": [
       "11914"
      ]
     },
     "execution_count": 3,
     "metadata": {},
     "output_type": "execute_result"
    }
   ],
   "source": [
    "len(dataset)"
   ]
  },
  {
   "cell_type": "markdown",
   "metadata": {},
   "source": [
    "question 3"
   ]
  },
  {
   "cell_type": "code",
   "execution_count": 4,
   "metadata": {},
   "outputs": [
    {
     "data": {
      "text/plain": [
       "Chevrolet     1123\n",
       "Ford           881\n",
       "Volkswagen     809\n",
       "Name: Make, dtype: int64"
      ]
     },
     "execution_count": 4,
     "metadata": {},
     "output_type": "execute_result"
    }
   ],
   "source": [
    "dataset.Make.value_counts()[:3]"
   ]
  },
  {
   "cell_type": "markdown",
   "metadata": {},
   "source": [
    "question 4 "
   ]
  },
  {
   "cell_type": "code",
   "execution_count": 5,
   "metadata": {},
   "outputs": [
    {
     "name": "stdout",
     "output_type": "stream",
     "text": [
      "34\n"
     ]
    }
   ],
   "source": [
    "audis = dataset.loc[dataset.Make == \"Audi\"]\n",
    "print(len(audis.Model.unique()))\n",
    "del audis"
   ]
  },
  {
   "cell_type": "markdown",
   "metadata": {},
   "source": [
    "question 5"
   ]
  },
  {
   "cell_type": "code",
   "execution_count": 6,
   "metadata": {},
   "outputs": [
    {
     "name": "stdout",
     "output_type": "stream",
     "text": [
      "column 'Make' has 0 missing value \n",
      "column 'Model' has 0 missing value \n",
      "column 'Year' has 0 missing value \n",
      "column 'Engine Fuel Type' has 3 missing value \n",
      "column 'Engine HP' has 69 missing value \n",
      "column 'Engine Cylinders' has 30 missing value \n",
      "column 'Transmission Type' has 0 missing value \n",
      "column 'Driven_Wheels' has 0 missing value \n",
      "column 'Number of Doors' has 6 missing value \n",
      "column 'Market Category' has 3742 missing value \n",
      "column 'Vehicle Size' has 0 missing value \n",
      "column 'Vehicle Style' has 0 missing value \n",
      "column 'highway MPG' has 0 missing value \n",
      "column 'city mpg' has 0 missing value \n",
      "column 'Popularity' has 0 missing value \n",
      "column 'MSRP' has 0 missing value \n",
      "5 column has missing values\n"
     ]
    }
   ],
   "source": [
    "counter = 0\n",
    "for i in dataset.columns:\n",
    "    print(f\"column '{i}' has {dataset[i].isna().sum()} missing value \")\n",
    "    if dataset[i].isna().sum():\n",
    "        counter += 1 \n",
    "\n",
    "print(counter, \"column has missing values\")"
   ]
  },
  {
   "cell_type": "markdown",
   "metadata": {},
   "source": [
    "question 6 "
   ]
  },
  {
   "cell_type": "code",
   "execution_count": 7,
   "metadata": {},
   "outputs": [
    {
     "data": {
      "text/plain": [
       "6.0"
      ]
     },
     "execution_count": 7,
     "metadata": {},
     "output_type": "execute_result"
    }
   ],
   "source": [
    "dataset[\"Engine Cylinders\"].median()"
   ]
  },
  {
   "cell_type": "code",
   "execution_count": 8,
   "metadata": {},
   "outputs": [],
   "source": [
    "dataset[\"Engine Cylinders\"] = dataset[\"Engine Cylinders\"].fillna(dataset[\"Engine Cylinders\"].mode()[0])"
   ]
  },
  {
   "cell_type": "code",
   "execution_count": 9,
   "metadata": {},
   "outputs": [
    {
     "data": {
      "text/plain": [
       "6.0"
      ]
     },
     "execution_count": 9,
     "metadata": {},
     "output_type": "execute_result"
    }
   ],
   "source": [
    "dataset[\"Engine Cylinders\"].median()\n",
    "#median value not changed"
   ]
  },
  {
   "cell_type": "markdown",
   "metadata": {},
   "source": [
    "question 7"
   ]
  },
  {
   "cell_type": "code",
   "execution_count": 10,
   "metadata": {},
   "outputs": [],
   "source": [
    "lotus = dataset.loc[dataset.Make == \"Lotus\"]\n",
    "lotus = lotus[[\"Engine HP\",\"Engine Cylinders\"]]\n"
   ]
  },
  {
   "cell_type": "code",
   "execution_count": null,
   "metadata": {},
   "outputs": [],
   "source": [
    "dropped = lotus.drop_duplicates()\n",
    "dropped"
   ]
  },
  {
   "cell_type": "code",
   "execution_count": 29,
   "metadata": {},
   "outputs": [],
   "source": [
    "x = dropped.to_numpy()\n",
    "xtx = np.matmul(x.T,x)"
   ]
  },
  {
   "cell_type": "code",
   "execution_count": 30,
   "metadata": {},
   "outputs": [],
   "source": [
    "xtx_inv = np.linalg.inv(xtx)"
   ]
  },
  {
   "cell_type": "code",
   "execution_count": 40,
   "metadata": {},
   "outputs": [],
   "source": [
    "y = np.array([1100,800,750,850,1300,1000,1000,1300,800])"
   ]
  },
  {
   "cell_type": "code",
   "execution_count": 44,
   "metadata": {},
   "outputs": [],
   "source": [
    "m = np.matmul(xtx_inv, x.T)\n",
    "w = np.matmul(m,y)"
   ]
  },
  {
   "cell_type": "code",
   "execution_count": 48,
   "metadata": {},
   "outputs": [
    {
     "name": "stdout",
     "output_type": "stream",
     "text": [
      "[  4.59494481 -63.56432501]\n",
      "4.594944810094551\n"
     ]
    }
   ],
   "source": [
    "print(w)\n",
    "print(w[0])"
   ]
  },
  {
   "cell_type": "code",
   "execution_count": null,
   "metadata": {},
   "outputs": [],
   "source": []
  }
 ],
 "metadata": {
  "kernelspec": {
   "display_name": "Python 3.9.2 64-bit ('3.9.2')",
   "language": "python",
   "name": "python3"
  },
  "language_info": {
   "codemirror_mode": {
    "name": "ipython",
    "version": 3
   },
   "file_extension": ".py",
   "mimetype": "text/x-python",
   "name": "python",
   "nbconvert_exporter": "python",
   "pygments_lexer": "ipython3",
   "version": "3.9.2"
  },
  "orig_nbformat": 4,
  "vscode": {
   "interpreter": {
    "hash": "4b1cbbcf371c96a3c6aa28c8e2ecc0414854be759ec86948a30069ecd55ac203"
   }
  }
 },
 "nbformat": 4,
 "nbformat_minor": 2
}
